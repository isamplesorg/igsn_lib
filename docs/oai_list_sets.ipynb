{
 "cells": [
  {
   "cell_type": "code",
   "execution_count": 1,
   "metadata": {},
   "outputs": [],
   "source": [
    "import xmltodict\n",
    "import json\n",
    "import sickle\n",
    "\n",
    "base_url = \"http://doidb.wdc-terra.org/igsnoaip/oai\"\n",
    "\n",
    "s = sickle.Sickle(base_url)"
   ]
  },
  {
   "cell_type": "code",
   "execution_count": 2,
   "metadata": {},
   "outputs": [
    {
     "name": "stdout",
     "output_type": "stream",
     "text": [
      "{\n",
      "  \"metadataFormat\": {\n",
      "    \"@xmlns\": \"http://www.openarchives.org/OAI/2.0/\",\n",
      "    \"@xmlns:xsi\": \"http://www.w3.org/2001/XMLSchema-instance\",\n",
      "    \"metadataPrefix\": \"oai_dc\",\n",
      "    \"schema\": \"http://www.openarchives.org/OAI/2.0/oai_dc.xsd\",\n",
      "    \"metadataNamespace\": \"http://www.openarchives.org/OAI/2.0/oai_dc/\"\n",
      "  }\n",
      "}\n",
      "{\n",
      "  \"metadataFormat\": {\n",
      "    \"@xmlns\": \"http://www.openarchives.org/OAI/2.0/\",\n",
      "    \"@xmlns:xsi\": \"http://www.w3.org/2001/XMLSchema-instance\",\n",
      "    \"metadataPrefix\": \"igsn\",\n",
      "    \"schema\": \"http://schema.igsn.org/meta/nonexistant/nonexistant.xsd\",\n",
      "    \"metadataNamespace\": \"http://igsn.org/schema/nonexistant\"\n",
      "  }\n",
      "}\n"
     ]
    }
   ],
   "source": [
    "formats = s.ListMetadataFormats()\n",
    "for fmt in formats:\n",
    "    print(json.dumps(xmltodict.parse(fmt.raw), indent=2))"
   ]
  },
  {
   "cell_type": "code",
   "execution_count": 3,
   "metadata": {},
   "outputs": [
    {
     "name": "stdout",
     "output_type": "stream",
     "text": [
      "<set xmlns=\"http://www.openarchives.org/OAI/2.0/\" xmlns:xsi=\"http://www.w3.org/2001/XMLSchema-instance\"><setSpec>REFQUALITY</setSpec><setName>Reference quality citations only.</setName></set>\n",
      "  1: REFQUALITY  Reference quality citations only.\n",
      "<set xmlns=\"http://www.openarchives.org/OAI/2.0/\" xmlns:xsi=\"http://www.w3.org/2001/XMLSchema-instance\"><setSpec>ANDS</setSpec><setName>Australian National Data Service</setName></set>\n",
      "  2: ANDS  Australian National Data Service\n",
      "<set xmlns=\"http://www.openarchives.org/OAI/2.0/\" xmlns:xsi=\"http://www.w3.org/2001/XMLSchema-instance\"><setSpec>ANDS.REFQUALITY</setSpec><setName>Australian National Data Service (reference quality citations only)</setName></set>\n",
      "  3: ANDS.REFQUALITY  Australian National Data Service (reference quality citations only)\n",
      "<set xmlns=\"http://www.openarchives.org/OAI/2.0/\" xmlns:xsi=\"http://www.w3.org/2001/XMLSchema-instance\"><setSpec>ANDS.AUSCOPE</setSpec><setName>AuScope</setName></set>\n",
      "  4: ANDS.AUSCOPE  AuScope\n",
      "<set xmlns=\"http://www.openarchives.org/OAI/2.0/\" xmlns:xsi=\"http://www.w3.org/2001/XMLSchema-instance\"><setSpec>ANDS.AUSCOPE.REFQUALITY</setSpec><setName>AuScope (reference quality citations only)</setName></set>\n",
      "  5: ANDS.AUSCOPE.REFQUALITY  AuScope (reference quality citations only)\n",
      "<set xmlns=\"http://www.openarchives.org/OAI/2.0/\" xmlns:xsi=\"http://www.w3.org/2001/XMLSchema-instance\"><setSpec>CNRS</setSpec><setName>Centre national de la recherche scientifique</setName></set>\n",
      "  6: CNRS  Centre national de la recherche scientifique\n",
      "<set xmlns=\"http://www.openarchives.org/OAI/2.0/\" xmlns:xsi=\"http://www.w3.org/2001/XMLSchema-instance\"><setSpec>CNRS.REFQUALITY</setSpec><setName>Centre national de la recherche scientifique (reference quality citations only)</setName></set>\n",
      "  7: CNRS.REFQUALITY  Centre national de la recherche scientifique (reference quality citations only)\n",
      "<set xmlns=\"http://www.openarchives.org/OAI/2.0/\" xmlns:xsi=\"http://www.w3.org/2001/XMLSchema-instance\"><setSpec>CNRS.CNRS</setSpec><setName>Centre national de la recherche scientifique</setName></set>\n",
      "  8: CNRS.CNRS  Centre national de la recherche scientifique\n",
      "<set xmlns=\"http://www.openarchives.org/OAI/2.0/\" xmlns:xsi=\"http://www.w3.org/2001/XMLSchema-instance\"><setSpec>CNRS.CNRS.REFQUALITY</setSpec><setName>Centre national de la recherche scientifique (reference quality citations only)</setName></set>\n",
      "  9: CNRS.CNRS.REFQUALITY  Centre national de la recherche scientifique (reference quality citations only)\n",
      "<set xmlns=\"http://www.openarchives.org/OAI/2.0/\" xmlns:xsi=\"http://www.w3.org/2001/XMLSchema-instance\"><setSpec>CSIRO</setSpec><setName>CSIRO</setName></set>\n",
      " 10: CSIRO  CSIRO\n",
      "<set xmlns=\"http://www.openarchives.org/OAI/2.0/\" xmlns:xsi=\"http://www.w3.org/2001/XMLSchema-instance\"><setSpec>CSIRO.REFQUALITY</setSpec><setName>CSIRO (reference quality citations only)</setName></set>\n",
      " 11: CSIRO.REFQUALITY  CSIRO (reference quality citations only)\n",
      "<set xmlns=\"http://www.openarchives.org/OAI/2.0/\" xmlns:xsi=\"http://www.w3.org/2001/XMLSchema-instance\"><setSpec>CSIRO.CSIRO</setSpec><setName>CSIRO</setName></set>\n",
      " 12: CSIRO.CSIRO  CSIRO\n",
      "<set xmlns=\"http://www.openarchives.org/OAI/2.0/\" xmlns:xsi=\"http://www.w3.org/2001/XMLSchema-instance\"><setSpec>CSIRO.CSIRO.REFQUALITY</setSpec><setName>CSIRO (reference quality citations only)</setName></set>\n",
      " 13: CSIRO.CSIRO.REFQUALITY  CSIRO (reference quality citations only)\n",
      "<set xmlns=\"http://www.openarchives.org/OAI/2.0/\" xmlns:xsi=\"http://www.w3.org/2001/XMLSchema-instance\"><setSpec>GEOAUS</setSpec><setName>Geoscience Australia</setName></set>\n",
      " 14: GEOAUS  Geoscience Australia\n",
      "<set xmlns=\"http://www.openarchives.org/OAI/2.0/\" xmlns:xsi=\"http://www.w3.org/2001/XMLSchema-instance\"><setSpec>GEOAUS.REFQUALITY</setSpec><setName>Geoscience Australia (reference quality citations only)</setName></set>\n",
      " 15: GEOAUS.REFQUALITY  Geoscience Australia (reference quality citations only)\n",
      "<set xmlns=\"http://www.openarchives.org/OAI/2.0/\" xmlns:xsi=\"http://www.w3.org/2001/XMLSchema-instance\"><setSpec>GEOAUS.AU</setSpec><setName>Geoscience Australia</setName></set>\n",
      " 16: GEOAUS.AU  Geoscience Australia\n",
      "<set xmlns=\"http://www.openarchives.org/OAI/2.0/\" xmlns:xsi=\"http://www.w3.org/2001/XMLSchema-instance\"><setSpec>GEOAUS.AU.REFQUALITY</setSpec><setName>Geoscience Australia (reference quality citations only)</setName></set>\n",
      " 17: GEOAUS.AU.REFQUALITY  Geoscience Australia (reference quality citations only)\n",
      "<set xmlns=\"http://www.openarchives.org/OAI/2.0/\" xmlns:xsi=\"http://www.w3.org/2001/XMLSchema-instance\"><setSpec>GFZ</setSpec><setName>GFZ Allocator</setName></set>\n",
      " 18: GFZ  GFZ Allocator\n",
      "<set xmlns=\"http://www.openarchives.org/OAI/2.0/\" xmlns:xsi=\"http://www.w3.org/2001/XMLSchema-instance\"><setSpec>GFZ.REFQUALITY</setSpec><setName>GFZ Allocator (reference quality citations only)</setName></set>\n",
      " 19: GFZ.REFQUALITY  GFZ Allocator (reference quality citations only)\n",
      "<set xmlns=\"http://www.openarchives.org/OAI/2.0/\" xmlns:xsi=\"http://www.w3.org/2001/XMLSchema-instance\"><setSpec>GFZ.GFZ</setSpec><setName>Deutsches GeoForschungsZentrum GFZ</setName></set>\n",
      " 20: GFZ.GFZ  Deutsches GeoForschungsZentrum GFZ\n",
      "<set xmlns=\"http://www.openarchives.org/OAI/2.0/\" xmlns:xsi=\"http://www.w3.org/2001/XMLSchema-instance\"><setSpec>GFZ.GFZ.REFQUALITY</setSpec><setName>Deutsches GeoForschungsZentrum GFZ (reference quality citations only)</setName></set>\n",
      " 21: GFZ.GFZ.REFQUALITY  Deutsches GeoForschungsZentrum GFZ (reference quality citations only)\n",
      "<set xmlns=\"http://www.openarchives.org/OAI/2.0/\" xmlns:xsi=\"http://www.w3.org/2001/XMLSchema-instance\"><setSpec>IEDA</setSpec><setName>Integrated Earth Data Applications</setName></set>\n",
      " 22: IEDA  Integrated Earth Data Applications\n",
      "<set xmlns=\"http://www.openarchives.org/OAI/2.0/\" xmlns:xsi=\"http://www.w3.org/2001/XMLSchema-instance\"><setSpec>IEDA.REFQUALITY</setSpec><setName>Integrated Earth Data Applications (reference quality citations only)</setName></set>\n",
      " 23: IEDA.REFQUALITY  Integrated Earth Data Applications (reference quality citations only)\n",
      "<set xmlns=\"http://www.openarchives.org/OAI/2.0/\" xmlns:xsi=\"http://www.w3.org/2001/XMLSchema-instance\"><setSpec>IEDA.SESAR</setSpec><setName>System for Earth Sample Registration</setName></set>\n",
      " 24: IEDA.SESAR  System for Earth Sample Registration\n",
      "<set xmlns=\"http://www.openarchives.org/OAI/2.0/\" xmlns:xsi=\"http://www.w3.org/2001/XMLSchema-instance\"><setSpec>IEDA.SESAR.REFQUALITY</setSpec><setName>System for Earth Sample Registration (reference quality citations only)</setName></set>\n",
      " 25: IEDA.SESAR.REFQUALITY  System for Earth Sample Registration (reference quality citations only)\n",
      "<set xmlns=\"http://www.openarchives.org/OAI/2.0/\" xmlns:xsi=\"http://www.w3.org/2001/XMLSchema-instance\"><setSpec>IFREMER</setSpec><setName>Institut français de recherche pour l'exploitation de la mer</setName></set>\n",
      " 26: IFREMER  Institut français de recherche pour l'exploitation de la mer\n",
      "<set xmlns=\"http://www.openarchives.org/OAI/2.0/\" xmlns:xsi=\"http://www.w3.org/2001/XMLSchema-instance\"><setSpec>IFREMER.REFQUALITY</setSpec><setName>Institut français de recherche pour l'exploitation de la mer (reference quality citations only)</setName></set>\n",
      " 27: IFREMER.REFQUALITY  Institut français de recherche pour l'exploitation de la mer (reference quality citations only)\n",
      "<set xmlns=\"http://www.openarchives.org/OAI/2.0/\" xmlns:xsi=\"http://www.w3.org/2001/XMLSchema-instance\"><setSpec>IFREMER.IGSN</setSpec><setName>Institut français de recherche pour l'exploitation de la mer</setName></set>\n",
      " 28: IFREMER.IGSN  Institut français de recherche pour l'exploitation de la mer\n",
      "<set xmlns=\"http://www.openarchives.org/OAI/2.0/\" xmlns:xsi=\"http://www.w3.org/2001/XMLSchema-instance\"><setSpec>IFREMER.IGSN.REFQUALITY</setSpec><setName>Institut français de recherche pour l'exploitation de la mer (reference quality citations only)</setName></set>\n",
      " 29: IFREMER.IGSN.REFQUALITY  Institut français de recherche pour l'exploitation de la mer (reference quality citations only)\n",
      "<set xmlns=\"http://www.openarchives.org/OAI/2.0/\" xmlns:xsi=\"http://www.w3.org/2001/XMLSchema-instance\"><setSpec>KIGAM</setSpec><setName>Korea Institute of Geoscience and Mineral Resources</setName></set>\n",
      " 30: KIGAM  Korea Institute of Geoscience and Mineral Resources\n",
      "<set xmlns=\"http://www.openarchives.org/OAI/2.0/\" xmlns:xsi=\"http://www.w3.org/2001/XMLSchema-instance\"><setSpec>KIGAM.REFQUALITY</setSpec><setName>Korea Institute of Geoscience and Mineral Resources (reference quality citations only)</setName></set>\n",
      " 31: KIGAM.REFQUALITY  Korea Institute of Geoscience and Mineral Resources (reference quality citations only)\n",
      "<set xmlns=\"http://www.openarchives.org/OAI/2.0/\" xmlns:xsi=\"http://www.w3.org/2001/XMLSchema-instance\"><setSpec>KIGAM.DC</setSpec><setName>Korea Institute of Geoscience and Mineral Resources</setName></set>\n",
      " 32: KIGAM.DC  Korea Institute of Geoscience and Mineral Resources\n",
      "<set xmlns=\"http://www.openarchives.org/OAI/2.0/\" xmlns:xsi=\"http://www.w3.org/2001/XMLSchema-instance\"><setSpec>KIGAM.DC.REFQUALITY</setSpec><setName>Korea Institute of Geoscience and Mineral Resources (reference quality citations only)</setName></set>\n",
      " 33: KIGAM.DC.REFQUALITY  Korea Institute of Geoscience and Mineral Resources (reference quality citations only)\n",
      "<set xmlns=\"http://www.openarchives.org/OAI/2.0/\" xmlns:xsi=\"http://www.w3.org/2001/XMLSchema-instance\"><setSpec>MARUM</setSpec><setName>MARUM Center for Marine Environmental Studies at University of Bremen</setName></set>\n",
      " 34: MARUM  MARUM Center for Marine Environmental Studies at University of Bremen\n",
      "<set xmlns=\"http://www.openarchives.org/OAI/2.0/\" xmlns:xsi=\"http://www.w3.org/2001/XMLSchema-instance\"><setSpec>MARUM.REFQUALITY</setSpec><setName>MARUM Center for Marine Environmental Studies at University of Bremen (reference quality citations only)</setName></set>\n",
      " 35: MARUM.REFQUALITY  MARUM Center for Marine Environmental Studies at University of Bremen (reference quality citations only)\n",
      "<set xmlns=\"http://www.openarchives.org/OAI/2.0/\" xmlns:xsi=\"http://www.w3.org/2001/XMLSchema-instance\"><setSpec>MARUM.HB</setSpec><setName>MARUM Center for Marine Environmental Sciences</setName></set>\n",
      " 36: MARUM.HB  MARUM Center for Marine Environmental Sciences\n",
      "<set xmlns=\"http://www.openarchives.org/OAI/2.0/\" xmlns:xsi=\"http://www.w3.org/2001/XMLSchema-instance\"><setSpec>MARUM.HB.REFQUALITY</setSpec><setName>MARUM Center for Marine Environmental Sciences (reference quality citations only)</setName></set>\n",
      " 37: MARUM.HB.REFQUALITY  MARUM Center for Marine Environmental Sciences (reference quality citations only)\n",
      "<set xmlns=\"http://www.openarchives.org/OAI/2.0/\" xmlns:xsi=\"http://www.w3.org/2001/XMLSchema-instance\"><setSpec>UKI</setSpec><setName>Universität Kiel</setName></set>\n",
      " 38: UKI  Universität Kiel\n",
      "<set xmlns=\"http://www.openarchives.org/OAI/2.0/\" xmlns:xsi=\"http://www.w3.org/2001/XMLSchema-instance\"><setSpec>UKI.REFQUALITY</setSpec><setName>Universität Kiel (reference quality citations only)</setName></set>\n",
      " 39: UKI.REFQUALITY  Universität Kiel (reference quality citations only)\n",
      "<set xmlns=\"http://www.openarchives.org/OAI/2.0/\" xmlns:xsi=\"http://www.w3.org/2001/XMLSchema-instance\"><setSpec>UKI.RZ</setSpec><setName>Universität Kiel - Rechenzentrum</setName></set>\n",
      " 40: UKI.RZ  Universität Kiel - Rechenzentrum\n",
      "<set xmlns=\"http://www.openarchives.org/OAI/2.0/\" xmlns:xsi=\"http://www.w3.org/2001/XMLSchema-instance\"><setSpec>UKI.RZ.REFQUALITY</setSpec><setName>Universität Kiel - Rechenzentrum (reference quality citations only)</setName></set>\n",
      " 41: UKI.RZ.REFQUALITY  Universität Kiel - Rechenzentrum (reference quality citations only)\n"
     ]
    }
   ],
   "source": [
    "sets = s.ListSets()\n",
    "c = 1\n",
    "for st in sets:\n",
    "    print(st.raw)\n",
    "    print(f\"{c:3}: {st.setSpec}  {st.setName}\")\n",
    "    c += 1"
   ]
  },
  {
   "cell_type": "code",
   "execution_count": 4,
   "metadata": {},
   "outputs": [
    {
     "name": "stdout",
     "output_type": "stream",
     "text": [
      "<record xmlns=\"http://www.openarchives.org/OAI/2.0/\" xmlns:xsi=\"http://www.w3.org/2001/XMLSchema-instance\"><header><identifier>oai:registry.igsn.org:5975184</identifier><datestamp>2016-10-05T09:38:19Z</datestamp><setSpec>CSIRO</setSpec><setSpec>CSIRO.CSIRO</setSpec></header><metadata><oai_dc:dc xmlns:dc=\"http://purl.org/dc/elements/1.1/\" xmlns:oai_dc=\"http://www.openarchives.org/OAI/2.0/oai_dc/\" xmlns:xsi=\"http://www.w3.org/2001/XMLSchema-instance\" xsi:schemaLocation=\"http://www.openarchives.org/OAI/2.0/oai_dc/ http://www.openarchives.org/OAI/2.0/oai_dc.xsd\"><dc:creator>CSIRO.CSIRO</dc:creator><dc:identifier>http://hdl.handle.net/10273/CSMS57</dc:identifier><dc:identifier>igsn:10273/CSMS57</dc:identifier></oai_dc:dc></metadata></record>\n",
      "<record xmlns=\"http://www.openarchives.org/OAI/2.0/\" xmlns:xsi=\"http://www.w3.org/2001/XMLSchema-instance\"><header><identifier>oai:registry.igsn.org:5975166</identifier><datestamp>2016-10-05T09:39:03Z</datestamp><setSpec>CSIRO</setSpec><setSpec>CSIRO.CSIRO</setSpec></header><metadata><oai_dc:dc xmlns:dc=\"http://purl.org/dc/elements/1.1/\" xmlns:oai_dc=\"http://www.openarchives.org/OAI/2.0/oai_dc/\" xmlns:xsi=\"http://www.w3.org/2001/XMLSchema-instance\" xsi:schemaLocation=\"http://www.openarchives.org/OAI/2.0/oai_dc/ http://www.openarchives.org/OAI/2.0/oai_dc.xsd\"><dc:creator>CSIRO.CSIRO</dc:creator><dc:identifier>http://hdl.handle.net/10273/CSMS34</dc:identifier><dc:identifier>igsn:10273/CSMS34</dc:identifier></oai_dc:dc></metadata></record>\n",
      "<record xmlns=\"http://www.openarchives.org/OAI/2.0/\" xmlns:xsi=\"http://www.w3.org/2001/XMLSchema-instance\"><header><identifier>oai:registry.igsn.org:5974148</identifier><datestamp>2016-10-05T09:43:03Z</datestamp><setSpec>CSIRO</setSpec><setSpec>CSIRO.CSIRO</setSpec></header><metadata><oai_dc:dc xmlns:dc=\"http://purl.org/dc/elements/1.1/\" xmlns:oai_dc=\"http://www.openarchives.org/OAI/2.0/oai_dc/\" xmlns:xsi=\"http://www.w3.org/2001/XMLSchema-instance\" xsi:schemaLocation=\"http://www.openarchives.org/OAI/2.0/oai_dc/ http://www.openarchives.org/OAI/2.0/oai_dc.xsd\"><dc:creator>CSIRO.CSIRO</dc:creator><dc:identifier>http://hdl.handle.net/10273/CSMS1</dc:identifier><dc:identifier>igsn:10273/CSMS1</dc:identifier></oai_dc:dc></metadata></record>\n",
      "<record xmlns=\"http://www.openarchives.org/OAI/2.0/\" xmlns:xsi=\"http://www.w3.org/2001/XMLSchema-instance\"><header><identifier>oai:registry.igsn.org:5975144</identifier><datestamp>2016-10-05T09:43:05Z</datestamp><setSpec>CSIRO</setSpec><setSpec>CSIRO.CSIRO</setSpec></header><metadata><oai_dc:dc xmlns:dc=\"http://purl.org/dc/elements/1.1/\" xmlns:oai_dc=\"http://www.openarchives.org/OAI/2.0/oai_dc/\" xmlns:xsi=\"http://www.w3.org/2001/XMLSchema-instance\" xsi:schemaLocation=\"http://www.openarchives.org/OAI/2.0/oai_dc/ http://www.openarchives.org/OAI/2.0/oai_dc.xsd\"><dc:creator>CSIRO.CSIRO</dc:creator><dc:identifier>http://hdl.handle.net/10273/CSMS3</dc:identifier><dc:identifier>igsn:10273/CSMS3</dc:identifier></oai_dc:dc></metadata></record>\n",
      "<record xmlns=\"http://www.openarchives.org/OAI/2.0/\" xmlns:xsi=\"http://www.w3.org/2001/XMLSchema-instance\"><header><identifier>oai:registry.igsn.org:5975146</identifier><datestamp>2016-10-05T09:43:07Z</datestamp><setSpec>CSIRO</setSpec><setSpec>CSIRO.CSIRO</setSpec></header><metadata><oai_dc:dc xmlns:dc=\"http://purl.org/dc/elements/1.1/\" xmlns:oai_dc=\"http://www.openarchives.org/OAI/2.0/oai_dc/\" xmlns:xsi=\"http://www.w3.org/2001/XMLSchema-instance\" xsi:schemaLocation=\"http://www.openarchives.org/OAI/2.0/oai_dc/ http://www.openarchives.org/OAI/2.0/oai_dc.xsd\"><dc:creator>CSIRO.CSIRO</dc:creator><dc:identifier>http://hdl.handle.net/10273/CSMS8</dc:identifier><dc:identifier>igsn:10273/CSMS8</dc:identifier></oai_dc:dc></metadata></record>\n",
      "<record xmlns=\"http://www.openarchives.org/OAI/2.0/\" xmlns:xsi=\"http://www.w3.org/2001/XMLSchema-instance\"><header><identifier>oai:registry.igsn.org:5975148</identifier><datestamp>2016-10-05T09:43:09Z</datestamp><setSpec>CSIRO</setSpec><setSpec>CSIRO.CSIRO</setSpec></header><metadata><oai_dc:dc xmlns:dc=\"http://purl.org/dc/elements/1.1/\" xmlns:oai_dc=\"http://www.openarchives.org/OAI/2.0/oai_dc/\" xmlns:xsi=\"http://www.w3.org/2001/XMLSchema-instance\" xsi:schemaLocation=\"http://www.openarchives.org/OAI/2.0/oai_dc/ http://www.openarchives.org/OAI/2.0/oai_dc.xsd\"><dc:creator>CSIRO.CSIRO</dc:creator><dc:identifier>http://hdl.handle.net/10273/CSMS11</dc:identifier><dc:identifier>igsn:10273/CSMS11</dc:identifier></oai_dc:dc></metadata></record>\n",
      "<record xmlns=\"http://www.openarchives.org/OAI/2.0/\" xmlns:xsi=\"http://www.w3.org/2001/XMLSchema-instance\"><header><identifier>oai:registry.igsn.org:5975150</identifier><datestamp>2016-10-05T09:43:10Z</datestamp><setSpec>CSIRO</setSpec><setSpec>CSIRO.CSIRO</setSpec></header><metadata><oai_dc:dc xmlns:dc=\"http://purl.org/dc/elements/1.1/\" xmlns:oai_dc=\"http://www.openarchives.org/OAI/2.0/oai_dc/\" xmlns:xsi=\"http://www.w3.org/2001/XMLSchema-instance\" xsi:schemaLocation=\"http://www.openarchives.org/OAI/2.0/oai_dc/ http://www.openarchives.org/OAI/2.0/oai_dc.xsd\"><dc:creator>CSIRO.CSIRO</dc:creator><dc:identifier>http://hdl.handle.net/10273/CSMS14</dc:identifier><dc:identifier>igsn:10273/CSMS14</dc:identifier></oai_dc:dc></metadata></record>\n",
      "<record xmlns=\"http://www.openarchives.org/OAI/2.0/\" xmlns:xsi=\"http://www.w3.org/2001/XMLSchema-instance\"><header><identifier>oai:registry.igsn.org:5975152</identifier><datestamp>2016-10-05T09:43:12Z</datestamp><setSpec>CSIRO</setSpec><setSpec>CSIRO.CSIRO</setSpec></header><metadata><oai_dc:dc xmlns:dc=\"http://purl.org/dc/elements/1.1/\" xmlns:oai_dc=\"http://www.openarchives.org/OAI/2.0/oai_dc/\" xmlns:xsi=\"http://www.w3.org/2001/XMLSchema-instance\" xsi:schemaLocation=\"http://www.openarchives.org/OAI/2.0/oai_dc/ http://www.openarchives.org/OAI/2.0/oai_dc.xsd\"><dc:creator>CSIRO.CSIRO</dc:creator><dc:identifier>http://hdl.handle.net/10273/CSMS16</dc:identifier><dc:identifier>igsn:10273/CSMS16</dc:identifier></oai_dc:dc></metadata></record>\n",
      "<record xmlns=\"http://www.openarchives.org/OAI/2.0/\" xmlns:xsi=\"http://www.w3.org/2001/XMLSchema-instance\"><header><identifier>oai:registry.igsn.org:5975154</identifier><datestamp>2016-10-05T09:43:14Z</datestamp><setSpec>CSIRO</setSpec><setSpec>CSIRO.CSIRO</setSpec></header><metadata><oai_dc:dc xmlns:dc=\"http://purl.org/dc/elements/1.1/\" xmlns:oai_dc=\"http://www.openarchives.org/OAI/2.0/oai_dc/\" xmlns:xsi=\"http://www.w3.org/2001/XMLSchema-instance\" xsi:schemaLocation=\"http://www.openarchives.org/OAI/2.0/oai_dc/ http://www.openarchives.org/OAI/2.0/oai_dc.xsd\"><dc:creator>CSIRO.CSIRO</dc:creator><dc:identifier>http://hdl.handle.net/10273/CSMS20</dc:identifier><dc:identifier>igsn:10273/CSMS20</dc:identifier></oai_dc:dc></metadata></record>\n",
      "<record xmlns=\"http://www.openarchives.org/OAI/2.0/\" xmlns:xsi=\"http://www.w3.org/2001/XMLSchema-instance\"><header><identifier>oai:registry.igsn.org:5975143</identifier><datestamp>2016-10-05T09:45:20Z</datestamp><setSpec>CSIRO</setSpec><setSpec>CSIRO.CSIRO</setSpec></header><metadata><oai_dc:dc xmlns:dc=\"http://purl.org/dc/elements/1.1/\" xmlns:oai_dc=\"http://www.openarchives.org/OAI/2.0/oai_dc/\" xmlns:xsi=\"http://www.w3.org/2001/XMLSchema-instance\" xsi:schemaLocation=\"http://www.openarchives.org/OAI/2.0/oai_dc/ http://www.openarchives.org/OAI/2.0/oai_dc.xsd\"><dc:creator>CSIRO.CSIRO</dc:creator><dc:identifier>http://hdl.handle.net/10273/CSMS2</dc:identifier><dc:identifier>igsn:10273/CSMS2</dc:identifier></oai_dc:dc></metadata></record>\n",
      "<record xmlns=\"http://www.openarchives.org/OAI/2.0/\" xmlns:xsi=\"http://www.w3.org/2001/XMLSchema-instance\"><header><identifier>oai:registry.igsn.org:5975145</identifier><datestamp>2016-10-05T09:45:22Z</datestamp><setSpec>CSIRO</setSpec><setSpec>CSIRO.CSIRO</setSpec></header><metadata><oai_dc:dc xmlns:dc=\"http://purl.org/dc/elements/1.1/\" xmlns:oai_dc=\"http://www.openarchives.org/OAI/2.0/oai_dc/\" xmlns:xsi=\"http://www.w3.org/2001/XMLSchema-instance\" xsi:schemaLocation=\"http://www.openarchives.org/OAI/2.0/oai_dc/ http://www.openarchives.org/OAI/2.0/oai_dc.xsd\"><dc:creator>CSIRO.CSIRO</dc:creator><dc:identifier>http://hdl.handle.net/10273/CSMS5</dc:identifier><dc:identifier>igsn:10273/CSMS5</dc:identifier></oai_dc:dc></metadata></record>\n"
     ]
    }
   ],
   "source": [
    "set_name = 'CSIRO.CSIRO'\n",
    "recs = s.ListRecords(ignore_deleted=True, **{'metadataPrefix':'oai_dc', 'set':set_name})\n",
    "c = 0\n",
    "for rec in recs:\n",
    "    print(rec.raw)\n",
    "    c += 1\n",
    "    if c>10:\n",
    "        break"
   ]
  },
  {
   "cell_type": "code",
   "execution_count": 5,
   "metadata": {},
   "outputs": [
    {
     "name": "stdout",
     "output_type": "stream",
     "text": [
      "{\n",
      "  \"http://www.openarchives.org/OAI/2.0/:record\": {\n",
      "    \"http://www.openarchives.org/OAI/2.0/:header\": {\n",
      "      \"http://www.openarchives.org/OAI/2.0/:identifier\": \"oai:registry.igsn.org:5975145\",\n",
      "      \"http://www.openarchives.org/OAI/2.0/:datestamp\": \"2016-10-05T09:45:22Z\",\n",
      "      \"http://www.openarchives.org/OAI/2.0/:setSpec\": [\n",
      "        \"CSIRO\",\n",
      "        \"CSIRO.CSIRO\"\n",
      "      ]\n",
      "    },\n",
      "    \"http://www.openarchives.org/OAI/2.0/:metadata\": {\n",
      "      \"http://www.openarchives.org/OAI/2.0/oai_dc/:dc\": {\n",
      "        \"$http://www.w3.org/2001/XMLSchema-instance:schemaLocation\": \"http://www.openarchives.org/OAI/2.0/oai_dc/ http://www.openarchives.org/OAI/2.0/oai_dc.xsd\",\n",
      "        \"$xmlns\": {\n",
      "          \"\": \"http://www.openarchives.org/OAI/2.0/\",\n",
      "          \"xsi\": \"http://www.w3.org/2001/XMLSchema-instance\",\n",
      "          \"dc\": \"http://purl.org/dc/elements/1.1/\",\n",
      "          \"oai_dc\": \"http://www.openarchives.org/OAI/2.0/oai_dc/\"\n",
      "        },\n",
      "        \"http://purl.org/dc/elements/1.1/:creator\": \"CSIRO.CSIRO\",\n",
      "        \"http://purl.org/dc/elements/1.1/:identifier\": [\n",
      "          \"http://hdl.handle.net/10273/CSMS5\",\n",
      "          \"igsn:10273/CSMS5\"\n",
      "        ]\n",
      "      }\n",
      "    }\n",
      "  }\n",
      "}\n"
     ]
    }
   ],
   "source": [
    "import xmltodict\n",
    "import json\n",
    "\n",
    "recid = 'oai:registry.igsn.org:5975145'\n",
    "res = s.GetRecord(identifier=recid, metadataPrefix='oai_dc')\n",
    "rec = xmltodict.parse(res.raw, process_namespaces=True, attr_prefix='$')\n",
    "print(json.dumps(rec, indent=2))\n"
   ]
  },
  {
   "cell_type": "code",
   "execution_count": 5,
   "metadata": {},
   "outputs": [],
   "source": []
  }
 ],
 "metadata": {
  "kernelspec": {
   "display_name": "Python 3",
   "language": "python",
   "name": "python3"
  },
  "language_info": {
   "codemirror_mode": {
    "name": "ipython",
    "version": 3
   },
   "file_extension": ".py",
   "mimetype": "text/x-python",
   "name": "python",
   "nbconvert_exporter": "python",
   "pygments_lexer": "ipython3",
   "version": "3.8.5"
  }
 },
 "nbformat": 4,
 "nbformat_minor": 4
}